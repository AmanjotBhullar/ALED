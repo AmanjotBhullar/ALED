{
 "cells": [
  {
   "cell_type": "code",
   "execution_count": 1,
   "metadata": {
    "scrolled": true
   },
   "outputs": [
    {
     "name": "stdout",
     "output_type": "stream",
     "text": [
      "WARNING:tensorflow:From /mnt/astro/astro/home/bhullas3/ALED2/model_functions.py:59: calling softmax (from tensorflow.python.ops.nn_ops) with dim is deprecated and will be removed in a future version.\n",
      "Instructions for updating:\n",
      "dim is deprecated, use axis instead\n",
      "WARNING:tensorflow:From /mnt/astro/astro/home/bhullas3/ALED2/model_functions.py:97: calling reduce_sum (from tensorflow.python.ops.math_ops) with keep_dims is deprecated and will be removed in a future version.\n",
      "Instructions for updating:\n",
      "keep_dims is deprecated, use keepdims instead\n"
     ]
    }
   ],
   "source": [
    "from model_functions import classify_fits\n",
    "import tensorflow as tf\n",
    "from tensorflow.python.client import device_lib\n",
    "import os.path\n",
    "import pickle"
   ]
  },
  {
   "cell_type": "code",
   "execution_count": 2,
   "metadata": {},
   "outputs": [],
   "source": [
    "# Paths of .fits images\n",
    "snle_image_paths = ['test.fits']\n",
    "snle_names = ['test']"
   ]
  },
  {
   "cell_type": "code",
   "execution_count": null,
   "metadata": {},
   "outputs": [],
   "source": [
    "# Start where you left off\n",
    "if os.path.isfile('start.pickle'):\n",
    "    start_unpickle = open('start.pickle', 'rb')\n",
    "    start = pickle.load(start_unpickle)\n",
    "else:\n",
    "    start = 0\n",
    "\n",
    "classify_fits(snle_image_paths=snle_image_paths, snle_names=snle_names, start=start)"
   ]
  }
 ],
 "metadata": {
  "kernelspec": {
   "display_name": "Python 3",
   "language": "python",
   "name": "python3"
  },
  "language_info": {
   "codemirror_mode": {
    "name": "ipython",
    "version": 3
   },
   "file_extension": ".py",
   "mimetype": "text/x-python",
   "name": "python",
   "nbconvert_exporter": "python",
   "pygments_lexer": "ipython3",
   "version": "3.6.8"
  }
 },
 "nbformat": 4,
 "nbformat_minor": 2
}
